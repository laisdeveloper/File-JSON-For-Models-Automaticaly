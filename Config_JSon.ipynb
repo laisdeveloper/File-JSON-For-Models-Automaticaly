{
  "nbformat": 4,
  "nbformat_minor": 0,
  "metadata": {
    "colab": {
      "provenance": [],
      "mount_file_id": "16qlFnY6RDMTfcQ0AzNcRpixO8k1R1SmD",
      "authorship_tag": "ABX9TyPTn3d9bpRCl+Ar13TEYya1",
      "include_colab_link": true
    },
    "kernelspec": {
      "name": "python3",
      "display_name": "Python 3"
    },
    "language_info": {
      "name": "python"
    }
  },
  "cells": [
    {
      "cell_type": "markdown",
      "metadata": {
        "id": "view-in-github",
        "colab_type": "text"
      },
      "source": [
        "<a href=\"https://colab.research.google.com/github/laisdeveloper/File-JSON-For-Models-Automaticaly/blob/main/Config_JSon.ipynb\" target=\"_parent\"><img src=\"https://colab.research.google.com/assets/colab-badge.svg\" alt=\"Open In Colab\"/></a>"
      ]
    },
    {
      "cell_type": "code",
      "execution_count": null,
      "metadata": {
        "id": "Fy-YtMcuRFD1"
      },
      "outputs": [],
      "source": [
        "import torch\n",
        "from transformers import BertConfig"
      ]
    },
    {
      "cell_type": "code",
      "source": [
        "# Função para inferir o número de camadas\n",
        "def infer_num_layers(state_dict):\n",
        "    layers = [key.split(\".\")[3] for key in state_dict.keys() if \"encoder.layer\" in key]\n",
        "    return len(set(layers))"
      ],
      "metadata": {
        "colab": {
          "base_uri": "https://localhost:8080/"
        },
        "id": "8yZg_G9MOvKC",
        "outputId": "36bea1c1-72d4-4e38-9cdf-050589f02e1e"
      },
      "execution_count": null,
      "outputs": [
        {
          "output_type": "stream",
          "name": "stderr",
          "text": [
            "<ipython-input-16-2e2abb0532e1>:10: FutureWarning: You are using `torch.load` with `weights_only=False` (the current default value), which uses the default pickle module implicitly. It is possible to construct malicious pickle data which will execute arbitrary code during unpickling (See https://github.com/pytorch/pytorch/blob/main/SECURITY.md#untrusted-models for more details). In a future release, the default value for `weights_only` will be flipped to `True`. This limits the functions that could be executed during unpickling. Arbitrary objects will no longer be allowed to be loaded via this mode unless they are explicitly allowlisted by the user via `torch.serialization.add_safe_globals`. We recommend you start setting `weights_only=True` for any use case where you don't have full control of the loaded file. Please open an issue on GitHub for any issues related to this experimental feature.\n",
            "  model_state_dict = torch.load(\"/content/drive/MyDrive/XAI_E_ML/PIBIC_2024-2025/binario/BERT-Large.bin\", map_location=\"cpu\")\n"
          ]
        },
        {
          "output_type": "stream",
          "name": "stdout",
          "text": [
            "Arquivo config.json gerado com sucesso!\n"
          ]
        }
      ]
    },
    {
      "cell_type": "code",
      "source": [
        "# Carregar o modelo salvo - coloque o diretorio dentro das aspas\n",
        "model_state_dict = torch.load(\"/content/drive/MyDrive/\", map_location=\"cpu\")"
      ],
      "metadata": {
        "id": "NqHf3SaXRFAC"
      },
      "execution_count": null,
      "outputs": []
    },
    {
      "cell_type": "code",
      "source": [
        "num_hidden_layers = infer_num_layers(model_state_dict)\n",
        "hidden_size = model_state_dict[\"bert.embeddings.word_embeddings.weight\"].shape[1]\n",
        "vocab_size = model_state_dict[\"bert.embeddings.word_embeddings.weight\"].shape[0]\n",
        "num_attention_heads = model_state_dict[\"bert.encoder.layer.0.attention.self.query.weight\"].shape[0] // hidden_size\n",
        "intermediate_size = model_state_dict[\"bert.encoder.layer.0.intermediate.dense.weight\"].shape[0]\n",
        "max_position_embeddings = model_state_dict[\"bert.embeddings.position_embeddings.weight\"].shape[0]"
      ],
      "metadata": {
        "id": "7PFLdEVQRG9E"
      },
      "execution_count": null,
      "outputs": []
    },
    {
      "cell_type": "code",
      "source": [
        "config = BertConfig(\n",
        "    vocab_size=vocab_size,\n",
        "    hidden_size=hidden_size,\n",
        "    num_hidden_layers=num_hidden_layers,\n",
        "    num_attention_heads=num_attention_heads,\n",
        "    intermediate_size=intermediate_size,\n",
        "    max_position_embeddings=max_position_embeddings,\n",
        "    type_vocab_size=2,  # Geralmente o padrão é 2\n",
        ")"
      ],
      "metadata": {
        "id": "0H1INJm-RIx6"
      },
      "execution_count": null,
      "outputs": []
    },
    {
      "cell_type": "code",
      "source": [
        "# Salvar o arquivo config.json\n",
        "with open(\"config.json\", \"w\") as f:\n",
        "    json.dump(config.to_dict(), f, indent=4)\n",
        "\n",
        "print(\"Arquivo config.json gerado com sucesso!\")\n",
        "# o arquivo json sera salvo aqui no proprio ambiente do Colab - so verificar nas pastas que o arquivo config.json estara la!"
      ],
      "metadata": {
        "id": "CfdJWNjKRKLa"
      },
      "execution_count": null,
      "outputs": []
    }
  ]
}